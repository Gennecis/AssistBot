{
 "cells": [
  {
   "cell_type": "code",
   "execution_count": 1,
   "metadata": {},
   "outputs": [],
   "source": [
    "from bs4 import BeautifulSoup, Tag\n",
    "import requests\n",
    "from markdownify import markdownify as md\n",
    "import re\n",
    "import os\n",
    "import time\n",
    "from tqdm import tqdm"
   ]
  },
  {
   "cell_type": "code",
   "execution_count": 2,
   "metadata": {},
   "outputs": [],
   "source": [
    "base_url = 'https://nigeriapropertycentre.com/blog/renting-letting/tenancy-agreements-nigeria-landlords-tenants'\n",
    "path = '../data_fetched/legal_articles'\n",
    "bs_parser = 'html.parser'\n",
    "delay = 10\n",
    "\n",
    "if not os.path.exists(path):\n",
    "    os.makedirs(path)"
   ]
  },
  {
   "cell_type": "code",
   "execution_count": 3,
   "metadata": {},
   "outputs": [],
   "source": [
    "def fetch_page(url):\n",
    "    try:\n",
    "        res = requests.get(url)\n",
    "        if res.status_code == 200:\n",
    "            return res.text\n",
    "        else:\n",
    "            print(f\"Failed to fetch {url} with status code {res.status_code}\")\n",
    "    except requests.RequestException as e:\n",
    "        print(f\"Error fetching {url}: {e}\")\n",
    "    return None"
   ]
  },
  {
   "cell_type": "code",
   "execution_count": 4,
   "metadata": {},
   "outputs": [],
   "source": [
    "def extract_content(html_content):\n",
    "    data = {}\n",
    "    soup = BeautifulSoup(html_content, bs_parser)\n",
    "    title = soup.find('h1', class_='page-title')\n",
    "    title = title.text if title else 'No title found'\n",
    "    content = soup.find('div', class_='post-desc')\n",
    "    content = content.text if content else 'No content found'\n",
    "\n",
    "    data['title'] = title\n",
    "    data['content'] = content\n",
    "    return data"
   ]
  },
  {
   "cell_type": "code",
   "execution_count": 5,
   "metadata": {},
   "outputs": [],
   "source": [
    "def convert_to_markdown(data):\n",
    "    title_md = md(f\"# {data['title']}\")\n",
    "    body_md = md(data['content'])\n",
    "    markdown_content = f\"{title_md}\\n\\n{body_md}\"\n",
    "    return markdown_content"
   ]
  },
  {
   "cell_type": "code",
   "execution_count": 6,
   "metadata": {},
   "outputs": [],
   "source": [
    "def save_markdown_content(markdown_content, filename):\n",
    "    with open(os.path.join(path, f\"{filename}.md\"), 'w') as file:\n",
    "        file.write(markdown_content)\n",
    "        print(f\"Markdown content saved to {filename}.md\")"
   ]
  },
  {
   "cell_type": "code",
   "execution_count": 7,
   "metadata": {},
   "outputs": [
    {
     "name": "stdout",
     "output_type": "stream",
     "text": [
      "Markdown content saved to tenancy_agreement.md\n",
      "\\# Tenancy Agreements in Nigeria for Landlords and Tenants – What you need to know\n",
      "\n",
      "\n",
      "Tenancy Agreements are used worldwide to define the tenancy relationship, and this is also the case in Nigeria.ContentsWhat is a Tenancy Agreement?Who creates the Tenancy Agreement?Rights of the tenantWhat a Tenancy Agreement should containWhere to get a Tenancy AgreementWhat is a Tenancy Agreement?A Tenancy Agreement is a contract between a Landlord and the Tenant which sets out the rights and obligations of both the Landlord and the Tenant when renting property in Nigeria. A Tenancy Agreement is not mandatory, and the fact that a tenancy agreement does not exist in a tenancy relationship does not mean that the Landlord and Tenant have no rights in the tenancy. Both Landlord and Tenant have something called implied rights in all Tenancy relationships whether or not a Tenancy Agreement exists. However, a Tenancy Agreement is important because it provides further protection for both the Landlord and Tenant, and it expands on the implied rights. If you are a Landlord about to rent out your property, or if you are Tenant about to rent a property, it is advisable that you insist that there is a Tenancy Agreement. Who creates the Tenancy Agreement?In Nigeria, the Tenancy Agreement is in most cases created by the Landlord or their lawyer. As the Landlord is the owner of the property, they set the terms on which they want to rent their property and present this to the Tenant. Nigeria Property Centre has developed a service for Landlords where they can create their own Tenancy Agreement with the use of the NPC Document Service.Rights of the tenantAs the Tenancy Agreement is a contract between two parties – the Landlord and the Tenant, the Tenant has the right to review the terms of the Tenancy Agreement to determine whether or not the Agreement protects his/her interests. Most Tenancy Agreements are straightforward and easy to understand; however, it is advisable where possible to get a lawyer to review the terms and advise on how they affect the Tenant’s current and future rights.What a Tenancy Agreement should containAs a Landlord or a Tenant, you need to ensure that your Tenancy Agreement includes the following terms and information at a minimum:the names and addresses of the Landlord and the Tenantthe address of the propertythe start date and end date of the tenancyhow much the rent will beother applicable amounts including – legal fees, agency fees, security deposits, service charges/fees etc as applicable the obligations of both the Landlord and the Tenantan outline of bills the Tenant is responsible forThe above list is not exhaustive and in fact there are more terms that are frequently included in well\\-drafted Tenancy Agreements. Before renting a property, it is important that a well\\-drafted Tenancy Agreement is signed by both parties as it is the most important document in the tenancy relationship.Where to get a Tenancy AgreementIf you are a Landlord or the Agent of a Landlord interested in renting your property in Nigeria, then it is important that you create a Tenancy Agreement before renting out the property. Nigeria Property Centre (NPC) in partnership with Lawpadi.com have created an online Tenancy Agreement service for you to create your own Tenancy Agreement yourself. You can find out more about how to do this by checking out My Documents in your account dashboard. If you do not have an account with NPC, then please register for one to be able to use this service.If you are a future Tenant and your prospective Landlord has given you a Tenancy Agreement to sign. You should consider consulting with a lawyer who will give you a quick review of the Tenancy Agreement and advise you on how it affects your rights. You can find out more about scheduling a consultation with a Lawyer on the Lawpadi.com website.We hope you have found this information helpful. Please note that this information is provided for general informational purposes only and is not intended to be legal advice. No lawyer\\-client relationship is formed nor should any such relationship be implied. It is not intended to substitute for the advice of a qualified lawyer. If you require legal advice, please consult with a qualified lawyer.\n",
      "\n"
     ]
    }
   ],
   "source": [
    "def main():\n",
    "    html_content = fetch_page(base_url)\n",
    "    if html_content:\n",
    "        data = extract_content(html_content)  # Capture the returned dictionary\n",
    "        markdown_output = convert_to_markdown(data)  # Pass the dictionary to the function\n",
    "        save_markdown_content(markdown_output, filename='tenancy_agreement') # save the markdown output\n",
    "        print(markdown_output)  # print the markdown output\n",
    "    else:\n",
    "        print(f\"Failed to fetch {base_url}\")\n",
    "\n",
    "if __name__ == '__main__':\n",
    "    main()"
   ]
  }
 ],
 "metadata": {
  "kernelspec": {
   "display_name": ".venv",
   "language": "python",
   "name": "python3"
  },
  "language_info": {
   "codemirror_mode": {
    "name": "ipython",
    "version": 3
   },
   "file_extension": ".py",
   "mimetype": "text/x-python",
   "name": "python",
   "nbconvert_exporter": "python",
   "pygments_lexer": "ipython3",
   "version": "3.11.6"
  }
 },
 "nbformat": 4,
 "nbformat_minor": 2
}

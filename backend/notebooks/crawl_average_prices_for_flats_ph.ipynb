{
 "cells": [
  {
   "cell_type": "code",
   "execution_count": 1,
   "metadata": {},
   "outputs": [],
   "source": [
    "from bs4 import BeautifulSoup, Tag\n",
    "import requests\n",
    "from markdownify import markdownify as md\n",
    "import json\n",
    "import re\n",
    "import os\n",
    "import time\n",
    "from tqdm import tqdm"
   ]
  },
  {
   "cell_type": "code",
   "execution_count": 2,
   "metadata": {},
   "outputs": [],
   "source": [
    "base_url = 'https://nigeriapropertycentre.com/market-trends/average-prices/for-rent/flats-apartments/rivers/port-harcourt'\n",
    "path = '../data_fetched/prices'\n",
    "delay = 10 # seconds\n",
    "bs_parser = 'html.parser'\n",
    "\n",
    "if not os.path.exists(path):\n",
    "    os.mkdir(path)"
   ]
  },
  {
   "cell_type": "code",
   "execution_count": 3,
   "metadata": {},
   "outputs": [],
   "source": [
    "def fetch_page(url):\n",
    "    try:\n",
    "        response = requests.get(url)\n",
    "        if response.status_code == 200:\n",
    "            return response.text\n",
    "        else:\n",
    "            print(f\"failed to fetch response from {url} with status code {response.status_code}\")\n",
    "    except Exception as e:\n",
    "        print(f\"failed to fetch response from {url} with error {e}\")"
   ]
  },
  {
   "cell_type": "code",
   "execution_count": 4,
   "metadata": {},
   "outputs": [],
   "source": [
    "# def extract_table(html_content):\n",
    "#     data = {}\n",
    "#     soup = BeautifulSoup(html_content, bs_parser)\n",
    "\n",
    "#     # Extract the title\n",
    "#     title_tag = soup.find('h1', class_='page-title text-center')\n",
    "#     if title_tag:\n",
    "#         title = title_tag.get_text(strip=True)\n",
    "#     else:\n",
    "#         title = 'No title found'\n",
    "#     data['title'] = title\n",
    "\n",
    "#     # Extract the table\n",
    "#     table_section = soup.find('table', class_='google-visualization-table-table')\n",
    "#     table_data = []\n",
    "#     if isinstance(table_section, Tag):\n",
    "#         rows = table_section.find_all('tr', class_='google-visualization-table-tr-even')\n",
    "#         for row in rows:\n",
    "#             cols = row.find_all('td')\n",
    "#             cols_data = [col.get_text(strip=True) for col in cols]\n",
    "#             table_data.append(cols_data)\n",
    "#     else:\n",
    "#         table_data = []\n",
    "#     data['table'] = table_data\n",
    "\n",
    "#     return data\n",
    "\n",
    "def extract_table(html_content):\n",
    "    data = {}\n",
    "    soup = BeautifulSoup(html_content, bs_parser)\n",
    "\n",
    "    # Extract the title\n",
    "    title_tag = soup.find('h1', class_='page-title text-center')\n",
    "    if title_tag:\n",
    "        title = title_tag.get_text(strip=True)\n",
    "    else:\n",
    "        title = 'No title found'\n",
    "    data['title'] = title\n",
    "\n",
    "    # Extract the table\n",
    "    table_section = soup.find('table', class_='google-visualization-table-table')\n",
    "    table_data = []\n",
    "\n",
    "    if isinstance(table_section, Tag):\n",
    "        # Extract table headers\n",
    "        header_row = table_section.find('tr', class_='google-visualization-table-tr-head')\n",
    "        if isinstance(header_row, Tag):\n",
    "            headers = [th.get_text(strip=True) for th in header_row.find_all('th')]\n",
    "            table_data.append(headers)\n",
    "\n",
    "        # Extract table rows\n",
    "        rows = table_section.find_all('tr', class_='google-visualization-table-tr-even')\n",
    "        for row in rows:\n",
    "            cols = row.find_all('td')\n",
    "            cols_data = [col.get_text(strip=True) for col in cols]\n",
    "            table_data.append(cols_data)\n",
    "    else:\n",
    "        table_data = []\n",
    "\n",
    "    data['table'] = table_data\n",
    "\n",
    "    return data"
   ]
  },
  {
   "cell_type": "code",
   "execution_count": 5,
   "metadata": {},
   "outputs": [],
   "source": [
    "def save_to_json(data, filename):\n",
    "    filename = filename.strip().replace(' ', '_')\n",
    "    with open(os.path.join(path, f'{filename}.json'), 'w') as f:\n",
    "        json.dump(data, f)"
   ]
  },
  {
   "cell_type": "code",
   "execution_count": 6,
   "metadata": {},
   "outputs": [
    {
     "name": "stdout",
     "output_type": "stream",
     "text": [
      "Average Price of Flats for Rent in Port Harcourt, Rivers has been saved to ../data_fetched/prices\n",
      "{'title': 'Average Price of Flats for Rent in Port Harcourt, Rivers', 'table': [['Month', 'Average\\nPrice', 'Max. Property\\nPrice', 'Min. Property\\nPrice', 'Total Property\\nCount', 'New Property\\nAdded'], ['Jul 2024', '₦1,470,000', '₦30,000,000', '₦120,000', '188', '38'], ['Jun 2024', '₦1,440,000', '₦30,000,000', '₦200,000', '192', '30'], ['May 2024', '₦1,560,000', '₦30,000,000', '₦200,000', '207', '28'], ['Apr 2024', '₦1,360,000', '₦30,000,000', '₦200,000', '215', '28'], ['Mar 2024', '₦1,330,000', '₦30,000,000', '₦300,000', '247', '31'], ['Feb 2024', '₦1,350,000', '₦30,000,000', '₦280,000', '257', '35'], ['Jan 2024', '₦1,360,000', '₦11,000,000', '₦280,000', '268', '41'], ['Dec 2023', '₦1,330,000', '₦11,000,000', '₦280,000', '266', '44'], ['Nov 2023', '₦1,260,000', '₦11,000,000', '₦280,000', '275', '36'], ['Oct 2023', '₦1,240,000', '₦1,700,000,000', '₦280,000', '294', '61'], ['Sep 2023', '₦1,300,000', '₦1,700,000,000', '₦280,000', '284', '40'], ['Aug 2023', '₦1,230,000', '₦1,700,000,000', '₦300,000', '278', '46'], ['Jul 2023', '₦1,060,000', '₦1,700,000,000', '₦300,000', '272', '39']]}\n"
     ]
    }
   ],
   "source": [
    "def main():\n",
    "    html_content = fetch_page(base_url)\n",
    "    if html_content:\n",
    "        extracted_data = extract_table(html_content)\n",
    "        filename = extracted_data.get('title')\n",
    "        save_to_json(extracted_data, filename)\n",
    "        print(f'{filename} has been saved to {path}')\n",
    "        print(extracted_data)\n",
    "    else:\n",
    "        print(f\"Failed to fetch {base_url}\")\n",
    "\n",
    "if __name__ == '__main__':\n",
    "    main()"
   ]
  },
  {
   "cell_type": "code",
   "execution_count": null,
   "metadata": {},
   "outputs": [],
   "source": []
  }
 ],
 "metadata": {
  "kernelspec": {
   "display_name": ".venv",
   "language": "python",
   "name": "python3"
  },
  "language_info": {
   "codemirror_mode": {
    "name": "ipython",
    "version": 3
   },
   "file_extension": ".py",
   "mimetype": "text/x-python",
   "name": "python",
   "nbconvert_exporter": "python",
   "pygments_lexer": "ipython3",
   "version": "3.11.6"
  }
 },
 "nbformat": 4,
 "nbformat_minor": 2
}

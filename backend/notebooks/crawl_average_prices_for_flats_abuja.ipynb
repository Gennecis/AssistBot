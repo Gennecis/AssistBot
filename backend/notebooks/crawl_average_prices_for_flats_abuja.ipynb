{
 "cells": [
  {
   "cell_type": "code",
   "execution_count": 7,
   "metadata": {},
   "outputs": [],
   "source": [
    "from bs4 import BeautifulSoup, Tag\n",
    "import requests\n",
    "from markdownify import markdownify as md\n",
    "import json\n",
    "import re\n",
    "import os\n",
    "import time\n",
    "from tqdm import tqdm"
   ]
  },
  {
   "cell_type": "code",
   "execution_count": 8,
   "metadata": {},
   "outputs": [],
   "source": [
    "base_url = 'https://nigeriapropertycentre.com/market-trends/average-prices/for-rent/flats-apartments/abuja'\n",
    "path = '../data_fetched/prices'\n",
    "delay = 10 # seconds\n",
    "bs_parser = 'html.parser'\n",
    "\n",
    "if not os.path.exists(path):\n",
    "    os.mkdir(path)"
   ]
  },
  {
   "cell_type": "code",
   "execution_count": 9,
   "metadata": {},
   "outputs": [],
   "source": [
    "def fetch_page(url):\n",
    "    try:\n",
    "        response = requests.get(url)\n",
    "        if response.status_code == 200:\n",
    "            return response.text\n",
    "        else:\n",
    "            print(f\"Failed to fetch {url} with status code {response.status_code}\")\n",
    "    except Exception as e:\n",
    "        print(f\"Error fetching {url}: {e}\")\n",
    "    return None\n"
   ]
  },
  {
   "cell_type": "code",
   "execution_count": 10,
   "metadata": {},
   "outputs": [],
   "source": [
    "def extract_table(html_content):\n",
    "    data = {}\n",
    "    soup = BeautifulSoup(html_content, bs_parser)\n",
    "\n",
    "    # Extract the title\n",
    "    title_tag = soup.find('h1', class_='page-title text-center')\n",
    "    if title_tag:\n",
    "        title = title_tag.get_text(strip=True)\n",
    "    else:\n",
    "        title = 'No title found'\n",
    "    data['title'] = title\n",
    "\n",
    "    # Extract the table\n",
    "    table_section = soup.find('table', class_='google-visualization-table-table')\n",
    "    table_data = []\n",
    "\n",
    "    if isinstance(table_section, Tag):\n",
    "        # Extract table headers\n",
    "        header_row = table_section.find('tr', class_='google-visualization-table-tr-head')\n",
    "        if isinstance(header_row, Tag):\n",
    "            headers = [th.get_text(strip=True) for th in header_row.find_all('th')]\n",
    "            table_data.append(headers)\n",
    "\n",
    "        # Extract table rows\n",
    "        rows = table_section.find_all('tr', class_='google-visualization-table-tr-even')\n",
    "        for row in rows:\n",
    "            cols = row.find_all('td')\n",
    "            cols_data = [col.get_text(strip=True) for col in cols]\n",
    "            table_data.append(cols_data)\n",
    "    else:\n",
    "        table_data = []\n",
    "\n",
    "    data['table'] = table_data\n",
    "\n",
    "    return data"
   ]
  },
  {
   "cell_type": "code",
   "execution_count": 11,
   "metadata": {},
   "outputs": [],
   "source": [
    "def save_to_json(data, filename):\n",
    "    filename = filename.strip().replace(' ', '_')\n",
    "    with open(os.path.join(path, f'{filename}.json'), 'w') as f:\n",
    "        json.dump(data, f)"
   ]
  },
  {
   "cell_type": "code",
   "execution_count": 12,
   "metadata": {},
   "outputs": [
    {
     "name": "stdout",
     "output_type": "stream",
     "text": [
      "Average Price of Flats for Rent in Abuja has been saved to ../data_fetched/prices\n",
      "{'title': 'Average Price of Flats for Rent in Abuja', 'table': [['Area', 'Average\\nPrice', 'Max. Property\\nPrice', 'Min. Property\\nPrice', 'Total Property\\nCount', 'New Property\\nAdded'], ['Maitama District', '₦10,830,000', '₦140,000,000', '₦900,000', '169', '24'], ['Wuse 2', '₦9,580,000', '₦3,000,000,000', '₦55,000', '213', '42'], ['Asokoro District', '₦7,960,000', '₦16,000,000,000', '₦1,000,000', '217', '29'], ['Guzape District', '₦5,620,000', '₦100,000,000', '₦450,000', '210', '37'], ['Jabi', '₦5,230,000', '₦60,000,000', '₦900,000', '271', '87'], ['Kukwaba', '₦4,600,000', '₦9,000,000', '₦1,600,000', '4', '1'], ['Jahi', '₦4,490,000', '₦400,000,000', '₦800,000', '793', '129'], ['Wuye', '₦4,350,000', '₦280,000,000', '₦800,000', '395', '49'], ['Katampe', '₦4,320,000', '₦85,000,000', '₦1,000,000', '593', '95'], ['Utako', '₦3,850,000', '₦66,000,000', '₦1,200,000', '197', '21'], ['Gudu', '₦3,790,000', '₦13,000,000', '₦1,300,000', '53', '10'], ['Kado', '₦3,710,000', '₦25,000,000', '₦1,000,000', '64', '19'], ['Mabushi', '₦3,600,000', '₦25,000,000', '₦1,200,000', '282', '25'], ['Wuse', '₦3,400,000', '₦180,000,000', '₦1,600,000', '113', '38'], ['Gaduwa', '₦3,390,000', '₦20,000,000', '₦1,000,000', '85', '15'], ['Garki', '₦3,300,000', '₦20,000,000', '₦60,000', '244', '39'], ['Kaura', '₦3,300,000', '₦8,000,000', '₦850,000', '104', '17'], ['Idu Industrial', '₦3,120,000', '₦11,000,000', '₦900,000', '74', '10'], ['Life Camp', '₦2,980,000', '₦300,000,000', '₦750,000', '575', '88'], ['Durumi', '₦2,870,000', '₦15,000,000', '₦1,000,000', '281', '28'], ['Mbora (Nbora)', '₦2,800,000', '₦7,000,000', '₦1,000,000', '20', '1'], ['Karmo', '₦2,720,000', '₦4,000,000', '₦2,000,000', '9', '0'], ['Galadimawa', '₦2,670,000', '₦70,000,000', '₦800,000', '124', '22'], ['Gwarinpa', '₦2,380,000', '₦40,000,000', '₦300,000', '843', '117'], ['Apo', '₦2,350,000', '₦50,000,000', '₦800,000', '228', '30'], ['Karsana', '₦2,130,000', '₦3,000,000', '₦1,800,000', '6', '1'], ['Dakwo', '₦2,070,000', '₦5,000,000', '₦700,000', '15', '1'], ['Kafe', '₦2,000,000', '₦2,000,000', '₦2,000,000', '2', '1'], ['Dakibiyu', '₦2,000,000', '₦3,500,000', '₦500,000', '2', '1'], ['Dape', '₦1,950,000', '₦2,500,000', '₦200,000', '6', '1'], ['Lugbe District', '₦1,910,000', '₦15,000,000', '₦650,000', '171', '28'], ['Kubwa', '₦1,910,000', '₦6,000,000', '₦600,000', '168', '26'], ['Lokogoma District', '₦1,770,000', '₦4,500,000', '₦450,000', '137', '26'], ['Mpape', '₦1,510,000', '₦2,200,000', '₦500,000', '13', '1'], ['Duboyi', '₦1,500,000', '₦1,500,000', '₦1,500,000', '1', '0'], ['Kagini', '₦1,500,000', '₦1,800,000', '₦1,000,000', '3', '0'], ['Dei-Dei', '₦1,200,000', '₦1,200,000', '₦1,200,000', '1', '0'], ['Karu', '₦1,130,000', '₦2,000,000', '₦750,000', '7', '1'], ['Kabusa', '₦1,100,000', '₦1,500,000', '₦700,000', '2', '0'], ['Jikwoyi', '₦830,000', '₦1,200,000', '₦500,000', '3', '2'], ['Dutse', '₦810,000', '₦2,000,000', '₦450,000', '7', '2'], ['Kuje', '₦810,000', '₦1,000,000', '₦650,000', '6', '4'], ['Wumba', '₦800,000', '₦800,000', '₦800,000', '1', '0'], ['Central Business District', '₦800,000', '₦800,000', '₦800,000', '1', '1'], ['Orozo', '₦800,000', '₦800,000', '₦800,000', '1', '0'], ['Bwari', '₦690,000', '₦1,500,000', '₦450,000', '11', '1'], ['Kyami', '₦600,000', '₦600,000', '₦600,000', '1', '0'], ['Nyanya', '₦600,000', '₦600,000', '₦600,000', '1', '0'], ['Kurudu', '₦500,000', '₦500,000', '₦500,000', '1', '1'], ['Mararaba', '₦380,000', '₦450,000', '₦300,000', '2', '1']]}\n"
     ]
    }
   ],
   "source": [
    "def main():\n",
    "    html_content = fetch_page(base_url)\n",
    "    if html_content:\n",
    "        extracted_data = extract_table(html_content)\n",
    "        filename = extracted_data.get('title')\n",
    "        save_to_json(extracted_data, filename)\n",
    "        print(f'{filename} has been saved to {path}')\n",
    "        print(extracted_data)\n",
    "    else:\n",
    "        print(f\"Failed to fetch {base_url}\")\n",
    "\n",
    "if __name__ == '__main__':\n",
    "    main()"
   ]
  }
 ],
 "metadata": {
  "kernelspec": {
   "display_name": ".venv",
   "language": "python",
   "name": "python3"
  },
  "language_info": {
   "codemirror_mode": {
    "name": "ipython",
    "version": 3
   },
   "file_extension": ".py",
   "mimetype": "text/x-python",
   "name": "python",
   "nbconvert_exporter": "python",
   "pygments_lexer": "ipython3",
   "version": "3.11.6"
  }
 },
 "nbformat": 4,
 "nbformat_minor": 2
}
